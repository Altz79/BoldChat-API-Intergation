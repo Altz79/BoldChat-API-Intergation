{
 "cells": [
  {
   "cell_type": "markdown",
   "metadata": {},
   "source": [
    "<font size=\"6\">Bold360 and BoldChat API Intergation</font>"
   ]
  },
  {
   "cell_type": "code",
   "execution_count": null,
   "metadata": {},
   "outputs": [],
   "source": [
    "import requests\n",
    "import json\n",
    "import time\n",
    "import hashlib\n",
    "import pandas as pd\n",
    "from ratelimit import limits"
   ]
  },
  {
   "cell_type": "code",
   "execution_count": 84,
   "metadata": {},
   "outputs": [],
   "source": [
    "# First we'll create a \"Auth\" object. Please, replace this with your credentials:\n",
    "\n",
    "\"\"\"\n",
    "- YOUR_ACCOUNT_ID\n",
    "- YOUR_SETTINGS_ID\n",
    "- YOUR_API_KEY\n",
    "\"\"\"\n",
    "\n",
    "accountId = \"YOUR_ACCOUNT_ID\"\n",
    "settingID = \"YOUR_SETTINGS_ID\"\n",
    "api_key = \"YOUR_API_KEY\"\n",
    "\n",
    "def makeAuth():\n",
    "    seconds = time.time()\n",
    "    timestamp = int(seconds * 1000)\n",
    "    token = str(accountId) + \":\" + str(settingID) + \":\" + str(timestamp) + api_key\n",
    "    hash = hashlib.sha512(token.encode('utf-8')).hexdigest()\n",
    "    auth = str(accountId) + \":\" + str(settingID) + \":\" + str(timestamp) + \":\" + str(hash)\n",
    "    return auth\n",
    "\n",
    "authHash = makeAuth()"
   ]
  },
  {
   "cell_type": "code",
   "execution_count": 85,
   "metadata": {},
   "outputs": [],
   "source": [
    "# For further needs we'll get the current list of operators names with ID's from the account \n",
    "\n",
    "url_operators = \"https://api.boldchat.com/aid/YOUR_ACCOUNT_ID/data/rest/json/v1/getOperators?auth=\" + authHash\n",
    "response_operator = requests.get(url_operators)\n",
    "operator_data = response_operator.json()"
   ]
  },
  {
   "cell_type": "code",
   "execution_count": 86,
   "metadata": {},
   "outputs": [],
   "source": [
    "#Convert Operator JSON data into Pandas dataframe\n",
    "\n",
    "operator_list = list(operator_data.values())[2]\n",
    "\n",
    "loginID = []\n",
    "UserName = []\n",
    "ChatName = [] \n",
    "Name = []\n",
    "\n",
    "for i in range(len(operator_list)):\n",
    "    loginID.append(operator_list[i]['LoginID'])\n",
    "    UserName.append(operator_list[i]['UserName'])\n",
    "    ChatName.append(operator_list[i]['ChatName'])\n",
    "    Name.append(operator_list[i]['Name'])\n",
    "\n",
    "column_names_operator = [\"login_id\", \"user_name\", \"chat_name\", \"name\"]\n",
    "\n",
    "operator_names = pd.DataFrame(columns = column_names_operator)\n",
    "\n",
    "operator_names[\"login_id\"] = loginID\n",
    "operator_names[\"user_name\"] = UserName\n",
    "operator_names[\"chat_name\"] = ChatName\n",
    "operator_names[\"name\"] = Name\n",
    "operator_names[\"login_id\"] = operator_names[\"login_id\"].astype(\"int64\")"
   ]
  },
  {
   "cell_type": "code",
   "execution_count": 87,
   "metadata": {},
   "outputs": [],
   "source": [
    "#Create dictionary for replacement of OperatorID to Operator Name\n",
    "\n",
    "operator_names[\"name\"] = operator_names[\"name\"].str.strip()\n",
    "\n",
    "replace_dict_operators = pd.Series(operator_names.name.values, index = operator_names.login_id).to_dict()"
   ]
  },
  {
   "cell_type": "code",
   "execution_count": 88,
   "metadata": {},
   "outputs": [],
   "source": [
    "#Get data for selected account folders + selected date. We'll gett all pages from API for choosen date.  \n",
    "\n",
    "final_data_return = []\n",
    "folders_id_list =[]\n",
    "i = 0\n",
    "\n",
    "#You need to replace this for YOUR account folder names and ID's\n",
    "account_folders = {\"FOLDER_1\":\"FOLDER_1_ID\", \"FOLDER_2\":\"FOLDER_2_ID\", \"FOLDER_3\":\"FOLDER_3_ID\", \"FOLDER_4\":\"FOLDER_4_ID\"}\n",
    "\n",
    "for key, values in account_folders.items():\n",
    "    folders_id_list.append(values)\n",
    "\n",
    "def records_limit():\n",
    "    for i in folders_id_list: #we'll get data for each folder, one by one\n",
    "        #below we get first page data from API and place it prepared list\n",
    "        url_api = \"https://api.boldchat.com/aid/YOUR_ACCOUNT_ID/data/rest/json/v2/getInactiveChats?FolderID=\" + i + \"&FromDate=2020-07-06T00:00:00&ToDate=2020-07-21T00:00:00&auth=\" + authHash\n",
    "        response_first = requests.get(url_api)\n",
    "        page1 = response_first.json()\n",
    "        final_data_return.append(page1)\n",
    "        while list(final_data_return[-1].keys())[-1] == \"NextPage\": #here we check if the last page of our final list contains value for \"Next Page\", if it is - we continue to request data by changing the value of requested url\n",
    "            next_page_value = list(final_data_return[-1].values())[3]\n",
    "            url_api_next = \"https://api.boldchat.com/aid/YOUR_ACCOUNT_ID/data/rest/json/v2/getInactiveChats?FolderID=\" + i + \"&NextPage=\" + next_page_value + \"&auth=\" + authHash\n",
    "            response_next = requests.get(url_api_next)\n",
    "            page2 = response_next.json()\n",
    "            final_data_return.append(page2)\n",
    "        i =+ 1    \n",
    "    print(\"Download complete. Total number of pages: \" + str(len(final_data_return)))"
   ]
  },
  {
   "cell_type": "code",
   "execution_count": 89,
   "metadata": {},
   "outputs": [
    {
     "name": "stdout",
     "output_type": "stream",
     "text": [
      "Download complete. Total number of pages: 60\n"
     ]
    }
   ],
   "source": [
    "records_limit()"
   ]
  },
  {
   "cell_type": "code",
   "execution_count": 90,
   "metadata": {},
   "outputs": [],
   "source": [
    "#Converting JSON data to dataframe\n",
    "\n",
    "folder_id = []\n",
    "operator = []\n",
    "answered = []\n",
    "ended = []\n",
    "chat_name = []\n",
    "chat_status_type = []\n",
    "visitor_message_count = []\n",
    "\n",
    "for g in range(len(final_data_return)):\n",
    "    work_dictionary = final_data_return[g]\n",
    "    for i in range(len(work_dictionary['Data'])):\n",
    "        folder_id.append(work_dictionary['Data'][i]['FolderID'])\n",
    "        operator.append(work_dictionary['Data'][i]['OperatorID'])\n",
    "        answered.append(work_dictionary['Data'][i]['Answered'])\n",
    "        ended.append(work_dictionary['Data'][i]['Ended'])\n",
    "        chat_status_type.append(work_dictionary['Data'][i]['ChatStatusType'])\n",
    "        visitor_message_count.append(work_dictionary['Data'][i]['VisitorMessageCount'])\n",
    "\n",
    "column_names = [\"folderid\", \"foldername\", \"operatorid\", \"operatorname\", \"team\", \"chatstatustype\", \"visitormessagecount\", \"answered\", \"ended\", \"time_difference\", \"date\"]\n",
    "\n",
    "chat_handling_time = pd.DataFrame(columns = column_names)\n",
    "\n",
    "chat_handling_time[\"folderid\"] = folder_id\n",
    "chat_handling_time[\"operatorid\"] = operator\n",
    "chat_handling_time[\"answered\"] = answered\n",
    "chat_handling_time[\"ended\"] = ended\n",
    "chat_handling_time[\"chatstatustype\"] = chat_status_type\n",
    "chat_handling_time[\"visitormessagecount\"] = visitor_message_count\n",
    "chat_handling_time[\"foldername\"] = folder_id\n",
    "chat_handling_time[\"operatorname\"] = operator"
   ]
  },
  {
   "cell_type": "code",
   "execution_count": 92,
   "metadata": {},
   "outputs": [],
   "source": [
    "#Saving recieved data in CSV format\n",
    "\n",
    "chat_handling_time.to_csv(\"Chat Handling time for 01-10 of July.csv\", index=False)"
   ]
  }
 ],
 "metadata": {
  "kernelspec": {
   "display_name": "Python 3",
   "language": "python",
   "name": "python3"
  },
  "language_info": {
   "codemirror_mode": {
    "name": "ipython",
    "version": 3
   },
   "file_extension": ".py",
   "mimetype": "text/x-python",
   "name": "python",
   "nbconvert_exporter": "python",
   "pygments_lexer": "ipython3",
   "version": "3.7.4"
  }
 },
 "nbformat": 4,
 "nbformat_minor": 2
}
